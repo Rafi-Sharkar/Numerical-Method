{
  "cells": [
    {
      "cell_type": "markdown",
      "metadata": {
        "id": "view-in-github",
        "colab_type": "text"
      },
      "source": [
        "<a href=\"https://colab.research.google.com/github/Rafi-Sharkar/Numerical-Method/blob/main/Assignment_03_MustakimBillahRafi_2131130.ipynb\" target=\"_parent\"><img src=\"https://colab.research.google.com/assets/colab-badge.svg\" alt=\"Open In Colab\"/></a>"
      ]
    },
    {
      "cell_type": "markdown",
      "metadata": {
        "id": "-01V0t-ukc96"
      },
      "source": [
        "<a href=\"https://colab.research.google.com/github/mirsazzathossain/CSE317-Lab/blob/autumn_2022/Lab_Assignment_03.ipynb\" target=\"_parent\"><img src=\"https://colab.research.google.com/assets/colab-badge.svg\" alt=\"Open In Colab\"/></a>"
      ]
    },
    {
      "cell_type": "markdown",
      "metadata": {
        "id": "afMd339dkc97"
      },
      "source": [
        "#### **Wheat Seed Classification**\n",
        "\n",
        "In this assignment, you will use the [Wheat Seed Dataset](https://archive.ics.uci.edu/ml/datasets/seeds) to classify the type of wheat seed based on the measurements of the seed. The dataset contains 7 attributes and 210 instances. The attributes are:\n",
        "\n",
        "1. Area\n",
        "2. Perimeter\n",
        "3. Compactness\n",
        "4. Length of Kernel\n",
        "5. Width of Kernel\n",
        "6. Asymmetry Coefficient\n",
        "7. Length of Kernel Groove\n",
        "\n",
        "Based on the attributes, the dataset contains 3 classes:\n",
        "\n",
        "1. Kama\n",
        "2. Rosa\n",
        "3. Canadian\n",
        "\n",
        "The text file `seeds_dataset.txt` contains the dataset. The first 7 columns are the attributes and the last column is the class label. The class labels are encoded as  1, 2, and 3 for Kama, Rosa, and Canadian, respectively. The goal of this assignment is to build a classifier that can predict the type of wheat seed based on the measurements of the seed. Follow the instructions below to complete the assignment."
      ]
    },
    {
      "cell_type": "markdown",
      "metadata": {
        "id": "1T_2yG8Vkc97"
      },
      "source": [
        "#### **Instructions**\n",
        "\n",
        "1. Download the dataset from [Github](https://minhaskamal.github.io/DownGit/#/home?url=https://github.com/mirsazzathossain/CSE317-Lab-Numerical-Methods/blob/main/datasets/seeds_dataset.txt). It should be saved as `seeds_dataset.txt`.\n",
        "2. Upload the dataset to your Google Drive and mount your Google Drive to Colab.\n",
        "3. Read the dataset using numpy's built-in function `np.genfromtxt()`. Pass the following parameters to the function:\n",
        "    - `fname`: The path to the dataset\n",
        "    - `delimiter`: The delimiter used in the dataset to separate the attributes (Hint: Use `'\\t'` as the delimiter)\n",
        "    \n",
        "4. Shuffle the dataset using `np.random.shuffle()`. Pass the following parameters to the function:\n",
        "    - `x`: The dataset\n",
        "5. Split the dataset into features and labels. The first 7 columns of the dataset are the features and the last column is the label. Use numpy's array slicing to split the dataset into features and labels. (Hint: Use `:` to select all the rows and `0:7` to select the first 7 columns for features and `7` to select the last column for labels)\n",
        "6. Split the dataset into training and testing sets. Use numpy's built-in function `np.split()` to split the dataset into training and testing sets. Pass the following parameters to the function:\n",
        "    - `ary`: The dataset\n",
        "    - `indices_or_sections`: The number of instances in the training set (Hint: Use `int(0.8 * len(dataset))` to get the number of instances in the training set)\n",
        "    - `axis`: The axis to split the dataset (Hint: Use `0` to split the dataset along the rows)\n",
        "7. Find the minimum and maximum values of each feature in the training set. Use numpy's built-in function `np.min()` and `np.max()` to find the minimum and maximum values of each feature in the training set. Pass the following parameters to the function:\n",
        "    - `a`: The training set\n",
        "    - `axis`: The axis to find the minimum and maximum values (Hint: Use `0` to find the minimum and maximum values along the columns)\n",
        "8. In this step, you must normalize the training and test sets. Nomalization is an essential part of every machine learning project. It is used to bring all the features to the same scale. If the features are not normalized, the higher-valued features will outnumber the lower-valued ones.\n",
        "\n",
        "    For example, suppose we have a dataset with two features: the number of bedrooms in a house and the size of the garden in square feet and we are trying to forecast the rent of the residence. If the features are not normalized, the feature with higher values will take precedence over the feature with lower values. In this scenario, the garden area has a greater value. As a result, the model will make an attempt to forecast the house's price depending on the size of the garden. As a consequence, the model will be faulty since most individuals will not pay higher rent for more garden area. We need to normalize the features in order to prevent this. Let's look at the following illustration to better comprehend what we have said:\n",
        "    \n",
        "    - House 1: 2 bedrooms, 2500 sq. ft. garden\n",
        "    - House 2: 3 bedrooms, 500 sq. ft. garden\n",
        "    - House 3: 7 bedrooms, 2300 sq. ft. garden\n",
        "\n",
        "    Considering that most people won't pay more for a larger garden, it follows that the rent for House 1 should be more comparable to House 2 than to House 3. However, if we give the aforementioned data to a k-NN classifier without normalization, it will compute the euclidean distance between the test and training examples and pick the class of the test instance based on the class of the closest training instance.\n",
        "\n",
        "    The euclidean distance between the test instance and the training instances will be:\n",
        "\n",
        "    - Distance between house 1 and house 2: $\\sqrt{(2-3)^2 + (2500-500)^2} = 2000$\n",
        "    - Distance between house 1 and house 3: $\\sqrt{(2-7)^2 + (2500-2300)^2} = 200$\n",
        "\n",
        "    As you can see, the distance between houses 1 and 3 is shorter than that between houses 1 and 2. As a result, the model will forecast that house 1 will cost around the same as house 3. This is not what was anticipated. We need to normalize the features in order to prevent this. To normalize the features, subtract the minimum value of each feature from all the values of that feature and divide the result by the range of the feature. The range of a feature is the difference between the maximum and minimum values of that feature. The formula for normalization is given below:\n",
        "\n",
        "    $$x_{normalized} = \\frac{x - min(x)}{max(x) - min(x)}$$\n",
        "\n",
        "    where $x$ is the feature vector. The above formula will normalize the features to a scale of 0 to 1.\n",
        "\n",
        "    Let's normalize the features in the above example. To do so, we need to find the minimum and maximum values of each feature. The minimum and maximum values of the number of bedrooms are 2 and 7, respectively. The minimum and maximum values of the garden area are 500 and 2500, respectively. The normalized values of the features are given below:\n",
        "\n",
        "    - House 1: $(2 - 2) / 5 = 0$ bedrooms, $(2500 - 500) / 2000 = 0.75$ sq. ft. garden\n",
        "    - House 2: $(3 - 2) / 5 = 0.2$ bedrooms, $(500 - 500) / 2000 = 0$ sq. ft. garden\n",
        "    - House 3: $(7 - 2) / 5 = 1$ bedrooms, $(2300 - 500) / 2000 = 0.85$ sq. ft. garden\n",
        "\n",
        "    Now, the euclidean distance between the test instance and the training instances will be:\n",
        "\n",
        "    - Distance between house 1 and house 2: $\\sqrt{(0-0.2)^2 + (0.75-0)^2} = 0.77$\n",
        "    - Distance between house 1 and house 3: $\\sqrt{(0-1)^2 + (0.75-0.9)^2} = 1.11$\n",
        "\n",
        "    As you can see now, the distance between houses 1 and 2 is shorter than that between houses 1 and 3. The model will thus forecast that house 1 will cost about the same as house 2, according to the prediction. This is what is anticipated. This is what normalization does. It equalizes the scale of all features. This is important because it prevents the features with higher values from dominating the features with lower values.\n",
        "\n",
        "    Use the minimum and maximum values you found in the previous step to normalize the training and test sets.\n",
        "9. Now, you have to build a classifier to classify the type of wheat seed based on the measurements of the seed. Use the K-Nearest Neighbors algorithm to build the classifier. Use the Euclidean distance to find the nearest neighbors.\n",
        "\n",
        "10. Output the number of data points in the testing set and the number of correct predictions made by the classifier for each class."
      ]
    },
    {
      "cell_type": "markdown",
      "source": [
        "\n",
        "1. Download the dataset from Github. It should be saved as seeds_dataset.txt.\n",
        "```\n",
        "\n",
        "```\n",
        "\n"
      ],
      "metadata": {
        "id": "lBSd_XNFkq93"
      }
    },
    {
      "cell_type": "code",
      "source": [
        "#Q2\n",
        "from google.colab import drive\n",
        "drive.mount('/content/drive')"
      ],
      "metadata": {
        "id": "8dUmmCJYko3I",
        "colab": {
          "base_uri": "https://localhost:8080/"
        },
        "outputId": "43134191-5cde-4844-da04-a08eff33735c"
      },
      "execution_count": 8,
      "outputs": [
        {
          "output_type": "stream",
          "name": "stdout",
          "text": [
            "Drive already mounted at /content/drive; to attempt to forcibly remount, call drive.mount(\"/content/drive\", force_remount=True).\n"
          ]
        }
      ]
    },
    {
      "cell_type": "code",
      "source": [
        "#Q3\n",
        "import numpy as np\n",
        "\n",
        "file_path = '/content/drive/MyDrive/data set/seeds_dataset_corr.txt'  # Update this with your dataset path\n",
        "\n",
        "# Read the dataset using np.genfromtxt\n",
        "dataset = np.genfromtxt(fname=file_path, delimiter='\\t')\n",
        "\n",
        "# Display the data\n",
        "print(dataset)"
      ],
      "metadata": {
        "colab": {
          "base_uri": "https://localhost:8080/"
        },
        "id": "0U1oecqDpr4s",
        "outputId": "17cd5fd5-27ae-44d0-fc14-971cc7f4a737"
      },
      "execution_count": 9,
      "outputs": [
        {
          "output_type": "stream",
          "name": "stdout",
          "text": [
            "[[15.26   14.84    0.871  ...  2.221   5.22    1.    ]\n",
            " [14.88   14.57    0.8811 ...  1.018   4.956   1.    ]\n",
            " [14.29   14.09    0.905  ...  2.699   4.825   1.    ]\n",
            " ...\n",
            " [13.2    13.66    0.8883 ...  8.315   5.056   3.    ]\n",
            " [11.84   13.21    0.8521 ...  3.598   5.044   3.    ]\n",
            " [12.3    13.34    0.8684 ...  5.637   5.063   3.    ]]\n"
          ]
        }
      ]
    },
    {
      "cell_type": "code",
      "source": [
        "#Q4,Q5,Q6\n",
        "\n",
        "np.random.shuffle(dataset)\n",
        "\n",
        "features = dataset[:, 0:7]\n",
        "labels = dataset[:, 7]\n",
        "\n",
        "train_size = int(0.8 * len(dataset))\n",
        "train_features, test_features = np.split(features, [train_size], axis=0)\n",
        "train_labels, test_labels = np.split(labels, [train_size], axis=0)"
      ],
      "metadata": {
        "id": "EYOvtQ2LqXm4"
      },
      "execution_count": 10,
      "outputs": []
    },
    {
      "cell_type": "code",
      "source": [
        "#Q7\n",
        "\n",
        "min_values = np.min(train_features, axis=0)\n",
        "\n",
        "max_values = np.max(train_features, axis=0)\n"
      ],
      "metadata": {
        "id": "3BDLU0W4rpdC"
      },
      "execution_count": 11,
      "outputs": []
    },
    {
      "cell_type": "code",
      "source": [
        "#Q8\n",
        "\n",
        "train_features_normalized = (train_features - min_values) / (max_values - min_values)\n",
        "\n",
        "# Step 2: Normalize the test set\n",
        "test_features_normalized = (test_features - min_values) / (max_values - min_values)"
      ],
      "metadata": {
        "id": "IReFzpBEsDcV"
      },
      "execution_count": 12,
      "outputs": []
    },
    {
      "cell_type": "code",
      "source": [
        "#Q9\n",
        "\n",
        "from sklearn.neighbors import KNeighborsClassifier\n",
        "from sklearn.metrics import accuracy_score\n",
        "\n",
        "# Create and train the K-NN model\n",
        "knn = KNeighborsClassifier(n_neighbors=3, metric='euclidean')\n",
        "knn.fit(train_features_normalized, train_labels)\n",
        "\n",
        "# Predict and evaluate\n",
        "test_predictions = knn.predict(test_features_normalized)\n",
        "accuracy = accuracy_score(test_labels, test_predictions) * 100\n",
        "print(f\"Accuracy of K-NN classifier with k=3: {accuracy:.2f}%\")\n"
      ],
      "metadata": {
        "colab": {
          "base_uri": "https://localhost:8080/"
        },
        "id": "52VnAdVWtDXk",
        "outputId": "5654ca30-252f-4ec0-9691-39c17af7a7b2"
      },
      "execution_count": 21,
      "outputs": [
        {
          "output_type": "stream",
          "name": "stdout",
          "text": [
            "Accuracy of K-NN classifier with k=3: 90.48%\n"
          ]
        }
      ]
    },
    {
      "cell_type": "code",
      "source": [
        "from typing import Counter\n",
        "#10\n",
        "print(len(test_predictions))\n",
        "print(len(test_labels))\n",
        "\n",
        "# Output the number of data points in the testing set and the number of correct predictions made by the classifier for each class.\n",
        "curPred = []\n",
        "for i in range(len(test_predictions)):\n",
        "  if test_predictions[i] == test_labels[i]:\n",
        "    curPred.append(test_predictions[i])\n",
        "print(\"Total number of data points in the testing set is\",len(test_predictions))\n",
        "print(\"Successful predictions made by the classifier is \",len(curPred))\n",
        "\n",
        "x = Counter(curPred)\n",
        "print(\"The number of correct predictions made by the classifier for each class is \",x)"
      ],
      "metadata": {
        "colab": {
          "base_uri": "https://localhost:8080/"
        },
        "id": "OC1fRxDQC9NX",
        "outputId": "625d524d-3818-4150-e227-3ee894766df5"
      },
      "execution_count": 25,
      "outputs": [
        {
          "output_type": "stream",
          "name": "stdout",
          "text": [
            "42\n",
            "42\n",
            "Total number of data points in the testing set is 42\n",
            "Successful predictions made by the classifier is  38\n",
            "The number of correct predictions made by the classifier for each class is  Counter({2.0: 15, 1.0: 12, 3.0: 11})\n"
          ]
        }
      ]
    }
  ],
  "metadata": {
    "kernelspec": {
      "display_name": "Python 3",
      "language": "python",
      "name": "python3"
    },
    "language_info": {
      "codemirror_mode": {
        "name": "ipython",
        "version": 3
      },
      "file_extension": ".py",
      "mimetype": "text/x-python",
      "name": "python",
      "nbconvert_exporter": "python",
      "pygments_lexer": "ipython3",
      "version": "3.10.6 (tags/v3.10.6:9c7b4bd, Aug  1 2022, 21:53:49) [MSC v.1932 64 bit (AMD64)]"
    },
    "orig_nbformat": 4,
    "vscode": {
      "interpreter": {
        "hash": "b148fc9bfa8b60132af830e32e1690e4e023b803e92912df15b823b90141dda6"
      }
    },
    "colab": {
      "provenance": [],
      "include_colab_link": true
    }
  },
  "nbformat": 4,
  "nbformat_minor": 0
}