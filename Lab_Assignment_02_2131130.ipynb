{
  "cells": [
    {
      "cell_type": "markdown",
      "metadata": {
        "id": "view-in-github",
        "colab_type": "text"
      },
      "source": [
        "<a href=\"https://colab.research.google.com/github/Rafi-Sharkar/Numerical-Method/blob/main/Lab_Assignment_02_2131130.ipynb\" target=\"_parent\"><img src=\"https://colab.research.google.com/assets/colab-badge.svg\" alt=\"Open In Colab\"/></a>"
      ]
    },
    {
      "cell_type": "markdown",
      "metadata": {
        "id": "MdZgwkKHW4RE"
      },
      "source": [
        "<a href=\"https://colab.research.google.com/github/mirsazzathossain/CSE317-Lab/blob/main/Lab_Assignment_02.ipynb\" target=\"_parent\"><img src=\"https://colab.research.google.com/assets/colab-badge.svg\" alt=\"Open In Colab\"/></a>"
      ]
    },
    {
      "cell_type": "markdown",
      "metadata": {
        "id": "f6ivsRJbW4RM"
      },
      "source": [
        "#### **Find the following integral using the simpson's 1/3 rule**\n",
        "\n",
        "Simpson's 1/3 rule uses higher-order polynomials to approximate the integral of a function $f(x)$ over the interval $[a,b]$. For Example, if there is an extra point midway between $f(a)$ and $f(b)$, the three points can be connected with a parabola. The area under the parabola is an approximation of the integral of $f(x)$ over the interval $[a,b]$.\n",
        "\n",
        "<center>\n",
        "    <img src=\"./images/simpson.PNG\" width=\"400\" />\n",
        "</center>\n",
        "\n",
        "If we are given values of $f(x)$ at 3 points as $(x_0, f(x_0))$, $(x_1, f(x_1))$, and $(x_2, f(x_2))$ then we can estimate $f(x)$ using the Lagrange polynomial of degree 2:\n",
        "\n",
        "$$\n",
        "\\begin{align*}\n",
        "f(x) &\\approx f(x_0) \\frac{(x-x_1)(x-x_2)}{(x_0-x_1)(x_0-x_2)} + f(x_1) \\frac{(x-x_0)(x-x_2)}{(x_1-x_0)(x_1-x_2)} + f(x_2) \\frac{(x-x_0)(x-x_1)}{(x_2-x_0)(x_2-x_1)}\n",
        "\\end{align*}\n",
        "$$\n",
        "\n",
        "Now, as the area under the estimated curve is an approximation of the integral of $f(x)$ over the interval $[a,b]$, we can write the integral as:\n",
        "\n",
        "$$\n",
        "\\begin{align*}\n",
        "I &= \\int_{a}^{b} f(x) dx \\\\\n",
        "&\\approx \\int_{a}^{b} \\left[f(x_0)\\frac{(x-x_1)(x-x_2)}{(x_0-x_1)(x_0-x_2)} + f(x_1) \\frac{(x-x_0)(x-x_2)}{(x_1-x_0)(x_1-x_2)} + f(x_2) \\frac{(x-x_0)(x-x_1)}{(x_2-x_0)(x_2-x_1)} \\right] dx\n",
        "\\end{align*}\n",
        "$$\n",
        "\n",
        "When $a = x_0$, $b = x_2$, $x_1 = \\frac{a+b}{2}$, and $h = \\frac{b-a}{2}$, we can simplify the integral to:\n",
        "\n",
        "$$\n",
        "\\begin{align*}\n",
        "    I &\\approx \\frac{h}{3} \\left[ f(x_0) + 4f(x_1) + f(x_2) \\right] \\\\\n",
        "    &= (b-a) \\frac{f(x_0) + 4f(x_1) + f(x_2)}{6}\n",
        "\\end{align*}\n",
        "$$\n",
        "\n",
        "We will use Simpson's 1/3 rule to approximate the integral of $f(x) = 0.2 + 25x - 200x^2 + 675x^3 - 900x^4 + 400x^5$ over the interval $[0, 0.8]$. Follow the steps below to approximate the integral using Simpson's 1/3 rule."
      ]
    },
    {
      "cell_type": "markdown",
      "metadata": {
        "id": "KYboydOKW4RP"
      },
      "source": [
        "##### **Step 1: Define the function**\n",
        "\n",
        "Define a function `f` that takes a single parameter `x` and returns the value of $f(x) = 0.2 + 25x - 200x^2 + 675x^3 - 900x^4 + 400x^5$ at `x`. Note that the function should be able to handle both scalar and vector inputs.\n"
      ]
    },
    {
      "cell_type": "code",
      "execution_count": null,
      "metadata": {
        "id": "eEtHpFSSW4RS"
      },
      "outputs": [],
      "source": [
        "# Write appropriate code\n",
        "def f1(x):\n",
        "  return .2 + 25*x - 200*(x**2) + 675*(x**3) -900*(x**4) + 400*(x**5)\n",
        "\n",
        "# f1(.2)"
      ]
    },
    {
      "cell_type": "markdown",
      "metadata": {
        "id": "qWwnUWPHW4RV"
      },
      "source": [
        "##### **Step 2: Define a function to approximate the function $f(x)$ using Lagrange polynomial**\n",
        "\n",
        "Define a function `lagrange` that takes four parameters `x0`, `x1`, `x2` and `x` and returns the value of the Lagrange polynomial of degree 2 at `x`. The function should be able to handle both scalar and vector inputs. Use the function `f` defined in Step 1 to evaluate the function at the given points."
      ]
    },
    {
      "cell_type": "code",
      "execution_count": null,
      "metadata": {
        "id": "OhubvEV5W4RV"
      },
      "outputs": [],
      "source": [
        "# write appropriate code\n",
        "x0, x1, x2 = .1, .3, .6\n",
        "\n",
        "def lagrange(x, x0, x1, x2):\n",
        "  return (((x-x1)*(x-x2))/((x0-x1)*(x0-x2)))*f1(x0) + (((x-x0)*(x-x2))/((x1-x0)*(x1-x2)))*f1(x1) + (((x-x0)*(x-x1))/((x2-x0)*(x2-x1)))*f1(x2)\n",
        "\n",
        "# l = lagrange(.2,x0,x1,x2)\n",
        "# print(l)\n"
      ]
    },
    {
      "cell_type": "markdown",
      "metadata": {
        "id": "Jk6qljKOW4RW"
      },
      "source": [
        "##### **Step 3: Define the interval**\n",
        "Define the interval as a numpy array of two elements, where the first element is the lower bound and the second element is the upper bound. Name the array `interval`."
      ]
    },
    {
      "cell_type": "code",
      "execution_count": null,
      "metadata": {
        "id": "gglNKmY4W4RX"
      },
      "outputs": [],
      "source": [
        "import numpy as np\n",
        "import matplotlib.pyplot as plt\n",
        "\n",
        "# Write appropriate code\n",
        "interval = np.array([0, 0.8])"
      ]
    },
    {
      "cell_type": "markdown",
      "metadata": {
        "id": "i6113sYrW4RY"
      },
      "source": [
        "##### **Step 4: Plot the function and the approximated polynomial**\n",
        "\n",
        "Plot the function $f(x)$ and the approximated polynomial using the function `lagrange` defined in Step 2. Use the interval defined in Step 3 as the x-axis. Also, plot the points $(x_0, f(x_0))$, $(x_1, f(x_1))$, and $(x_2, f(x_2))$ on the same plot. Fill the area under the approximated polynomial using numpy's `fill_between` function."
      ]
    },
    {
      "cell_type": "code",
      "execution_count": null,
      "metadata": {
        "id": "0oUh_cIzW4RZ",
        "outputId": "070a0d55-d42a-4bde-a4aa-36ddf40b7fb9",
        "colab": {
          "base_uri": "https://localhost:8080/",
          "height": 452
        }
      },
      "outputs": [
        {
          "output_type": "display_data",
          "data": {
            "text/plain": [
              "<Figure size 640x480 with 1 Axes>"
            ],
            "image/png": "[encoded data removed]"
          },
          "metadata": {}
        }
      ],
      "source": [
        "# Write appropriate code\n",
        "''' # methode_1\n",
        "x = np.arange(-.1, 1.15, .001)\n",
        "\n",
        "y = f1(x)\n",
        "\n",
        "x0,x1,x2 = .1,.3,.6\n",
        "\n",
        "yl1 = lagrange(x,x0,x1,x2)\n",
        "yl2 = lagrange(x,x0**2,x1**2,x2**2)\n",
        "\n",
        "plt.title(\"Lagrange Polynomial Approximation\")\n",
        "plt.plot(x,y, label=\"f1(x)\")\n",
        "plt.plot(x,yl1, label=\"Lagrange Polynomial 1st_degree\", color=\"red\")\n",
        "plt.plot(x,yl2, label=\"Lagrange Polynomial 2nd_degree\", color=\"green\")\n",
        "\n",
        "plt.legend()\n",
        "plt.ylabel(\"f1(x)\")\n",
        "plt.show()\n",
        "'''\n",
        "\n",
        "import matplotlib.pyplot as plt\n",
        "\n",
        "x0 = interval[0]\n",
        "x2 = interval[1]\n",
        "x1 = (x0 + x2) / 2\n",
        "\n",
        "x_values = np.linspace(x0, x2, 400)\n",
        "y_values = f1(x_values)\n",
        "y_lagrange = lagrange(x0, x1, x2, x_values)\n",
        "\n",
        "plt.plot(x_values, y_values, label='f(x)')\n",
        "plt.plot(x_values, y_lagrange, label='Lagrange Polynomial', color='red')"
      ]
    },
    {
      "cell_type": "markdown",
      "metadata": {
        "id": "WIPhjYQqW4RZ"
      },
      "source": [
        "##### **Step 5: Define a function to approximate the integral using Simpson's 1/3 rule**\n",
        "\n",
        "Define a function `simpson` that takes a parameter `interval` and returns the approximate value of the integral of $f(x)$ over the interval `interval` using Simpson's 1/3 rule. You have to employ the following steps:\n",
        "\n",
        "*   Calculate the midpoint of the interval. Store the value in a variable named `midpoint`.\n",
        "*   Calculate the value of $f(x_0)$, $f(x_1)$, and $f(x_2)$, where $x_0 = a$, $x_1 = \\frac{a+b}{2} = midpoint$, and $x_2 = b$. Store the values in variables named `f0`, `f1`, and `f2` respectively.\n",
        "*   Calculate the approximate value of the integral using Simpson's 1/3 rule. Store the value in a variable named `I`.\n",
        "*   Return the value of `I`."
      ]
    },
    {
      "cell_type": "code",
      "execution_count": null,
      "metadata": {
        "id": "pibWpgcAW4RZ"
      },
      "outputs": [],
      "source": [
        "# Write appropriate code\n",
        "def simpson(interval):\n",
        "    midpoints = (interval[0] + interval[1]) / 2\n",
        "    f_a = f1(interval[0])\n",
        "    f_b = f1(interval[1])\n",
        "    f_m = f1(midpoints)\n",
        "\n",
        "    I = (interval[1] - interval[0]) / 6 * (f_a + 4 * f_m + f_b)\n",
        "    return I"
      ]
    },
    {
      "cell_type": "markdown",
      "metadata": {
        "id": "2u-wTa9WW4Ra"
      },
      "source": [
        "##### **Step 6: Approximate the integral using Simpson's 1/3 rule**\n",
        "\n",
        "Call the function `simpson` with the interval `interval` as the parameter. Store the value returned by the function in a variable named `I`. Print the value of `I`. Then you should compute the integral analytically and find the absolute relative error between the two values. Print the absolute relative error."
      ]
    },
    {
      "cell_type": "code",
      "execution_count": null,
      "metadata": {
        "id": "qEicXcULW4Ra",
        "outputId": "32a28e19-984d-4910-bc63-9758c533c276",
        "colab": {
          "base_uri": "https://localhost:8080/"
        }
      },
      "outputs": [
        {
          "output_type": "stream",
          "name": "stdout",
          "text": [
            "The numerical integration result is: 1.37\n",
            "Relative error: 16.645%\n"
          ]
        }
      ],
      "source": [
        "# Write appropriate code\n",
        "I_actual = 1.640533\n",
        "I = simpson(interval)\n",
        "print(f'The numerical integration result is: {I:.2f}')\n",
        "print(f\"Relative error: {(abs(I_actual - I) / I_actual) * 100:.3f}%\")"
      ]
    }
  ],
  "metadata": {
    "kernelspec": {
      "display_name": "Python 3",
      "language": "python",
      "name": "python3"
    },
    "language_info": {
      "codemirror_mode": {
        "name": "ipython",
        "version": 3
      },
      "file_extension": ".py",
      "mimetype": "text/x-python",
      "name": "python",
      "nbconvert_exporter": "python",
      "pygments_lexer": "ipython3",
      "version": "3.10.6 (tags/v3.10.6:9c7b4bd, Aug  1 2022, 21:53:49) [MSC v.1932 64 bit (AMD64)]"
    },
    "orig_nbformat": 4,
    "vscode": {
      "interpreter": {
        "hash": "b148fc9bfa8b60132af830e32e1690e4e023b803e92912df15b823b90141dda6"
      }
    },
    "colab": {
      "provenance": [],
      "include_colab_link": true
    }
  },
  "nbformat": 4,
  "nbformat_minor": 0
}